{
 "cells": [
  {
   "cell_type": "markdown",
   "id": "00b80bc8",
   "metadata": {},
   "source": [
    "## Dependencies"
   ]
  },
  {
   "cell_type": "code",
   "execution_count": 4,
   "id": "4bbfc0b0",
   "metadata": {},
   "outputs": [],
   "source": [
    "import ultralytics\n",
    "import clearml"
   ]
  },
  {
   "cell_type": "markdown",
   "id": "a6bdb170",
   "metadata": {},
   "source": [
    "## Downloading Dataset from Roboflow"
   ]
  },
  {
   "cell_type": "markdown",
   "id": "7643c568",
   "metadata": {},
   "source": [
    "To activate kernel, run command \"jupyter notebook --NotebookApp.iopub_msg_rate_limit=10000 \" to prevent msg_limit error "
   ]
  },
  {
   "cell_type": "code",
   "execution_count": 3,
   "id": "6e1f47d4",
   "metadata": {},
   "outputs": [
    {
     "name": "stdout",
     "output_type": "stream",
     "text": [
      "Requirement already satisfied: roboflow in /Users/bomb.kv/miniconda3/lib/python3.9/site-packages (1.0.5)\n",
      "Requirement already satisfied: matplotlib in /Users/bomb.kv/miniconda3/lib/python3.9/site-packages (from roboflow) (3.5.2)\n",
      "Requirement already satisfied: python-dateutil in /Users/bomb.kv/miniconda3/lib/python3.9/site-packages (from roboflow) (2.8.2)\n",
      "Requirement already satisfied: wget in /Users/bomb.kv/miniconda3/lib/python3.9/site-packages (from roboflow) (3.2)\n",
      "Requirement already satisfied: certifi==2022.12.7 in /Users/bomb.kv/miniconda3/lib/python3.9/site-packages (from roboflow) (2022.12.7)\n",
      "Requirement already satisfied: opencv-python>=4.1.2 in /Users/bomb.kv/miniconda3/lib/python3.9/site-packages (from roboflow) (4.7.0.72)\n",
      "Requirement already satisfied: six in /Users/bomb.kv/miniconda3/lib/python3.9/site-packages (from roboflow) (1.16.0)\n",
      "Requirement already satisfied: chardet==4.0.0 in /Users/bomb.kv/miniconda3/lib/python3.9/site-packages (from roboflow) (4.0.0)\n",
      "Requirement already satisfied: PyYAML>=5.3.1 in /Users/bomb.kv/miniconda3/lib/python3.9/site-packages (from roboflow) (6.0)\n",
      "Requirement already satisfied: idna==2.10 in /Users/bomb.kv/miniconda3/lib/python3.9/site-packages (from roboflow) (2.10)\n",
      "Requirement already satisfied: pyparsing==2.4.7 in /Users/bomb.kv/miniconda3/lib/python3.9/site-packages (from roboflow) (2.4.7)\n",
      "Requirement already satisfied: tqdm>=4.41.0 in /Users/bomb.kv/miniconda3/lib/python3.9/site-packages (from roboflow) (4.64.0)\n",
      "Requirement already satisfied: cycler==0.10.0 in /Users/bomb.kv/miniconda3/lib/python3.9/site-packages (from roboflow) (0.10.0)\n",
      "Requirement already satisfied: requests-toolbelt in /Users/bomb.kv/miniconda3/lib/python3.9/site-packages (from roboflow) (0.10.1)\n",
      "Requirement already satisfied: numpy>=1.18.5 in /Users/bomb.kv/miniconda3/lib/python3.9/site-packages (from roboflow) (1.22.3)\n",
      "Requirement already satisfied: urllib3>=1.26.6 in /Users/bomb.kv/miniconda3/lib/python3.9/site-packages (from roboflow) (1.26.15)\n",
      "Requirement already satisfied: Pillow>=7.1.2 in /Users/bomb.kv/miniconda3/lib/python3.9/site-packages (from roboflow) (9.3.0)\n",
      "Requirement already satisfied: kiwisolver>=1.3.1 in /Users/bomb.kv/miniconda3/lib/python3.9/site-packages (from roboflow) (1.4.2)\n",
      "Requirement already satisfied: requests in /Users/bomb.kv/miniconda3/lib/python3.9/site-packages (from roboflow) (2.27.1)\n",
      "Requirement already satisfied: python-dotenv in /Users/bomb.kv/miniconda3/lib/python3.9/site-packages (from roboflow) (1.0.0)\n",
      "Requirement already satisfied: fonttools>=4.22.0 in /Users/bomb.kv/miniconda3/lib/python3.9/site-packages (from matplotlib->roboflow) (4.25.0)\n",
      "Requirement already satisfied: packaging>=20.0 in /Users/bomb.kv/miniconda3/lib/python3.9/site-packages (from matplotlib->roboflow) (23.0)\n",
      "Requirement already satisfied: charset-normalizer~=2.0.0 in /Users/bomb.kv/miniconda3/lib/python3.9/site-packages (from requests->roboflow) (2.0.4)\n",
      "loading Roboflow workspace...\n",
      "loading Roboflow project...\n",
      "Dependency ultralytics<=8.0.20 is required but found version=8.0.87, to fix: `pip install ultralytics<=8.0.20`\n",
      "Downloading Dataset Version Zip in DEGEN101-3 to yolov8: 100% [32819066 / 32819066] bytes\n"
     ]
    },
    {
     "name": "stderr",
     "output_type": "stream",
     "text": [
      "Extracting Dataset Version Zip to DEGEN101-3 in yolov8:: 100%|█████████████| 590/590 [00:00<00:00, 5593.53it/s]\n"
     ]
    }
   ],
   "source": [
    "!pip install roboflow\n",
    "\n",
    "from roboflow import Roboflow\n",
    "rf = Roboflow(api_key=\"ZzIprhTdzZf2iWH7gg8A\")\n",
    "project = rf.workspace(\"pocketsight-r1e4c\").project(\"degen101\")\n",
    "dataset = project.version(3).download(\"yolov8\")"
   ]
  },
  {
   "cell_type": "markdown",
   "id": "5ef723cf",
   "metadata": {},
   "source": [
    "## Training"
   ]
  },
  {
   "cell_type": "code",
   "execution_count": 8,
   "id": "52c34cee",
   "metadata": {},
   "outputs": [],
   "source": [
    "from ultralytics import YOLO\n",
    " \n",
    "# Load the model.\n",
    "model = YOLO(\"yolov8n.pt\")\n",
    " \n",
    "# Training.\n",
    "#results = model.train(\n",
    "#   data= dataset,\n",
    "#   imgsz=640,\n",
    "#   epochs=10,\n",
    "#   batch=8,\n",
    "#   name=\"yolov8n_custom\")"
   ]
  }
 ],
 "metadata": {
  "kernelspec": {
   "display_name": "Python 3 (ipykernel)",
   "language": "python",
   "name": "python3"
  },
  "language_info": {
   "codemirror_mode": {
    "name": "ipython",
    "version": 3
   },
   "file_extension": ".py",
   "mimetype": "text/x-python",
   "name": "python",
   "nbconvert_exporter": "python",
   "pygments_lexer": "ipython3",
   "version": "3.9.12"
  }
 },
 "nbformat": 4,
 "nbformat_minor": 5
}
